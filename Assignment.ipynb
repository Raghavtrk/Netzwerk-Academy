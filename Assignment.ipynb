{
  "nbformat": 4,
  "nbformat_minor": 0,
  "metadata": {
    "colab": {
      "name": "Assignment.ipynb",
      "provenance": []
    },
    "kernelspec": {
      "name": "python3",
      "display_name": "Python 3"
    },
    "accelerator": "GPU"
  },
  "cells": [
    {
      "cell_type": "markdown",
      "metadata": {
        "id": "JuMRdWYxtQvt",
        "colab_type": "text"
      },
      "source": [
        "Importing Libraries"
      ]
    },
    {
      "cell_type": "code",
      "metadata": {
        "id": "-cOzC68sm6zg",
        "colab_type": "code",
        "colab": {}
      },
      "source": [
        "import tensorflow as tf\n",
        "from tensorflow.keras.layers import Dense,Dropout,BatchNormalization\n",
        "from tensorflow.keras.models import Sequential\n",
        "from sklearn.model_selection import train_test_split\n",
        "from sklearn.preprocessing import LabelEncoder\n",
        "import numpy as np\n",
        "import pandas as pd"
      ],
      "execution_count": 0,
      "outputs": []
    },
    {
      "cell_type": "markdown",
      "metadata": {
        "id": "PyZwUJlXtW7Z",
        "colab_type": "text"
      },
      "source": [
        "Load the data"
      ]
    },
    {
      "cell_type": "code",
      "metadata": {
        "id": "dLctB0Ezpaij",
        "colab_type": "code",
        "colab": {}
      },
      "source": [
        "cols = ['a','b','c','d','e','f','g','h','i','j','k','l','m','n','o','p','q','r','s','t','u','v','w','x','y']\n",
        "dataset = pd.read_csv(\"/content/drive/My Drive/Dl ann/sensor_readings_24.csv\", names = cols)"
      ],
      "execution_count": 0,
      "outputs": []
    },
    {
      "cell_type": "code",
      "metadata": {
        "id": "5Itr-Ewdtvl-",
        "colab_type": "code",
        "outputId": "6e520b95-910a-431c-e6ea-585f14cf2876",
        "colab": {
          "base_uri": "https://localhost:8080/",
          "height": 391
        }
      },
      "source": [
        "dataset.head()"
      ],
      "execution_count": 0,
      "outputs": [
        {
          "output_type": "execute_result",
          "data": {
            "text/html": [
              "<div>\n",
              "<style scoped>\n",
              "    .dataframe tbody tr th:only-of-type {\n",
              "        vertical-align: middle;\n",
              "    }\n",
              "\n",
              "    .dataframe tbody tr th {\n",
              "        vertical-align: top;\n",
              "    }\n",
              "\n",
              "    .dataframe thead th {\n",
              "        text-align: right;\n",
              "    }\n",
              "</style>\n",
              "<table border=\"1\" class=\"dataframe\">\n",
              "  <thead>\n",
              "    <tr style=\"text-align: right;\">\n",
              "      <th></th>\n",
              "      <th>a</th>\n",
              "      <th>b</th>\n",
              "      <th>c</th>\n",
              "      <th>d</th>\n",
              "      <th>e</th>\n",
              "      <th>f</th>\n",
              "      <th>g</th>\n",
              "      <th>h</th>\n",
              "      <th>i</th>\n",
              "      <th>j</th>\n",
              "      <th>k</th>\n",
              "      <th>l</th>\n",
              "      <th>m</th>\n",
              "      <th>n</th>\n",
              "      <th>o</th>\n",
              "      <th>p</th>\n",
              "      <th>q</th>\n",
              "      <th>r</th>\n",
              "      <th>s</th>\n",
              "      <th>t</th>\n",
              "      <th>u</th>\n",
              "      <th>v</th>\n",
              "      <th>w</th>\n",
              "      <th>x</th>\n",
              "      <th>y</th>\n",
              "    </tr>\n",
              "  </thead>\n",
              "  <tbody>\n",
              "    <tr>\n",
              "      <th>0</th>\n",
              "      <td>0.438</td>\n",
              "      <td>0.498</td>\n",
              "      <td>3.625</td>\n",
              "      <td>3.645</td>\n",
              "      <td>5.0</td>\n",
              "      <td>2.918</td>\n",
              "      <td>5.0</td>\n",
              "      <td>2.351</td>\n",
              "      <td>2.332</td>\n",
              "      <td>2.643</td>\n",
              "      <td>1.698</td>\n",
              "      <td>1.687</td>\n",
              "      <td>1.698</td>\n",
              "      <td>1.717</td>\n",
              "      <td>1.744</td>\n",
              "      <td>0.593</td>\n",
              "      <td>0.502</td>\n",
              "      <td>0.493</td>\n",
              "      <td>0.504</td>\n",
              "      <td>0.445</td>\n",
              "      <td>0.431</td>\n",
              "      <td>0.444</td>\n",
              "      <td>0.440</td>\n",
              "      <td>0.429</td>\n",
              "      <td>Slight-Right-Turn</td>\n",
              "    </tr>\n",
              "    <tr>\n",
              "      <th>1</th>\n",
              "      <td>0.438</td>\n",
              "      <td>0.498</td>\n",
              "      <td>3.625</td>\n",
              "      <td>3.648</td>\n",
              "      <td>5.0</td>\n",
              "      <td>2.918</td>\n",
              "      <td>5.0</td>\n",
              "      <td>2.637</td>\n",
              "      <td>2.332</td>\n",
              "      <td>2.649</td>\n",
              "      <td>1.695</td>\n",
              "      <td>1.687</td>\n",
              "      <td>1.695</td>\n",
              "      <td>1.720</td>\n",
              "      <td>1.744</td>\n",
              "      <td>0.592</td>\n",
              "      <td>0.502</td>\n",
              "      <td>0.493</td>\n",
              "      <td>0.504</td>\n",
              "      <td>0.449</td>\n",
              "      <td>0.431</td>\n",
              "      <td>0.444</td>\n",
              "      <td>0.443</td>\n",
              "      <td>0.429</td>\n",
              "      <td>Slight-Right-Turn</td>\n",
              "    </tr>\n",
              "    <tr>\n",
              "      <th>2</th>\n",
              "      <td>0.438</td>\n",
              "      <td>0.498</td>\n",
              "      <td>3.625</td>\n",
              "      <td>3.629</td>\n",
              "      <td>5.0</td>\n",
              "      <td>2.918</td>\n",
              "      <td>5.0</td>\n",
              "      <td>2.637</td>\n",
              "      <td>2.334</td>\n",
              "      <td>2.643</td>\n",
              "      <td>1.696</td>\n",
              "      <td>1.687</td>\n",
              "      <td>1.695</td>\n",
              "      <td>1.717</td>\n",
              "      <td>1.744</td>\n",
              "      <td>0.593</td>\n",
              "      <td>0.502</td>\n",
              "      <td>0.493</td>\n",
              "      <td>0.504</td>\n",
              "      <td>0.449</td>\n",
              "      <td>0.431</td>\n",
              "      <td>0.444</td>\n",
              "      <td>0.446</td>\n",
              "      <td>0.429</td>\n",
              "      <td>Slight-Right-Turn</td>\n",
              "    </tr>\n",
              "    <tr>\n",
              "      <th>3</th>\n",
              "      <td>0.437</td>\n",
              "      <td>0.501</td>\n",
              "      <td>3.625</td>\n",
              "      <td>3.626</td>\n",
              "      <td>5.0</td>\n",
              "      <td>2.918</td>\n",
              "      <td>5.0</td>\n",
              "      <td>2.353</td>\n",
              "      <td>2.334</td>\n",
              "      <td>2.642</td>\n",
              "      <td>1.730</td>\n",
              "      <td>1.687</td>\n",
              "      <td>1.695</td>\n",
              "      <td>1.717</td>\n",
              "      <td>1.744</td>\n",
              "      <td>0.593</td>\n",
              "      <td>0.502</td>\n",
              "      <td>0.493</td>\n",
              "      <td>0.504</td>\n",
              "      <td>0.449</td>\n",
              "      <td>0.431</td>\n",
              "      <td>0.444</td>\n",
              "      <td>0.444</td>\n",
              "      <td>0.429</td>\n",
              "      <td>Slight-Right-Turn</td>\n",
              "    </tr>\n",
              "    <tr>\n",
              "      <th>4</th>\n",
              "      <td>0.438</td>\n",
              "      <td>0.498</td>\n",
              "      <td>3.626</td>\n",
              "      <td>3.629</td>\n",
              "      <td>5.0</td>\n",
              "      <td>2.918</td>\n",
              "      <td>5.0</td>\n",
              "      <td>2.640</td>\n",
              "      <td>2.334</td>\n",
              "      <td>2.639</td>\n",
              "      <td>1.696</td>\n",
              "      <td>1.687</td>\n",
              "      <td>1.695</td>\n",
              "      <td>1.717</td>\n",
              "      <td>1.744</td>\n",
              "      <td>0.592</td>\n",
              "      <td>0.502</td>\n",
              "      <td>0.493</td>\n",
              "      <td>0.504</td>\n",
              "      <td>0.449</td>\n",
              "      <td>0.431</td>\n",
              "      <td>0.444</td>\n",
              "      <td>0.441</td>\n",
              "      <td>0.429</td>\n",
              "      <td>Slight-Right-Turn</td>\n",
              "    </tr>\n",
              "  </tbody>\n",
              "</table>\n",
              "</div>"
            ],
            "text/plain": [
              "       a      b      c      d  ...      v      w      x                  y\n",
              "0  0.438  0.498  3.625  3.645  ...  0.444  0.440  0.429  Slight-Right-Turn\n",
              "1  0.438  0.498  3.625  3.648  ...  0.444  0.443  0.429  Slight-Right-Turn\n",
              "2  0.438  0.498  3.625  3.629  ...  0.444  0.446  0.429  Slight-Right-Turn\n",
              "3  0.437  0.501  3.625  3.626  ...  0.444  0.444  0.429  Slight-Right-Turn\n",
              "4  0.438  0.498  3.626  3.629  ...  0.444  0.441  0.429  Slight-Right-Turn\n",
              "\n",
              "[5 rows x 25 columns]"
            ]
          },
          "metadata": {
            "tags": []
          },
          "execution_count": 3
        }
      ]
    },
    {
      "cell_type": "code",
      "metadata": {
        "id": "P785bFvk0EJL",
        "colab_type": "code",
        "outputId": "d8e04676-7d70-4ac0-a15d-e8b55aa35115",
        "colab": {
          "base_uri": "https://localhost:8080/",
          "height": 35
        }
      },
      "source": [
        "dataset.shape"
      ],
      "execution_count": 0,
      "outputs": [
        {
          "output_type": "execute_result",
          "data": {
            "text/plain": [
              "(5456, 25)"
            ]
          },
          "metadata": {
            "tags": []
          },
          "execution_count": 4
        }
      ]
    },
    {
      "cell_type": "code",
      "metadata": {
        "colab_type": "code",
        "id": "NRGBZhxPywHW",
        "colab": {}
      },
      "source": [
        "labelencoder = LabelEncoder()\n",
        "dataset['y'] = labelencoder.fit_transform(dataset['y'])"
      ],
      "execution_count": 0,
      "outputs": []
    },
    {
      "cell_type": "code",
      "metadata": {
        "id": "9slFkGn_1Hmg",
        "colab_type": "code",
        "outputId": "5b53a205-4ad9-4aa8-8b76-4d395adb6e5f",
        "colab": {
          "base_uri": "https://localhost:8080/",
          "height": 218
        }
      },
      "source": [
        "dataset.head()"
      ],
      "execution_count": 0,
      "outputs": [
        {
          "output_type": "execute_result",
          "data": {
            "text/html": [
              "<div>\n",
              "<style scoped>\n",
              "    .dataframe tbody tr th:only-of-type {\n",
              "        vertical-align: middle;\n",
              "    }\n",
              "\n",
              "    .dataframe tbody tr th {\n",
              "        vertical-align: top;\n",
              "    }\n",
              "\n",
              "    .dataframe thead th {\n",
              "        text-align: right;\n",
              "    }\n",
              "</style>\n",
              "<table border=\"1\" class=\"dataframe\">\n",
              "  <thead>\n",
              "    <tr style=\"text-align: right;\">\n",
              "      <th></th>\n",
              "      <th>a</th>\n",
              "      <th>b</th>\n",
              "      <th>c</th>\n",
              "      <th>d</th>\n",
              "      <th>e</th>\n",
              "      <th>f</th>\n",
              "      <th>g</th>\n",
              "      <th>h</th>\n",
              "      <th>i</th>\n",
              "      <th>j</th>\n",
              "      <th>k</th>\n",
              "      <th>l</th>\n",
              "      <th>m</th>\n",
              "      <th>n</th>\n",
              "      <th>o</th>\n",
              "      <th>p</th>\n",
              "      <th>q</th>\n",
              "      <th>r</th>\n",
              "      <th>s</th>\n",
              "      <th>t</th>\n",
              "      <th>u</th>\n",
              "      <th>v</th>\n",
              "      <th>w</th>\n",
              "      <th>x</th>\n",
              "      <th>y</th>\n",
              "    </tr>\n",
              "  </thead>\n",
              "  <tbody>\n",
              "    <tr>\n",
              "      <th>0</th>\n",
              "      <td>0.438</td>\n",
              "      <td>0.498</td>\n",
              "      <td>3.625</td>\n",
              "      <td>3.645</td>\n",
              "      <td>5.0</td>\n",
              "      <td>2.918</td>\n",
              "      <td>5.0</td>\n",
              "      <td>2.351</td>\n",
              "      <td>2.332</td>\n",
              "      <td>2.643</td>\n",
              "      <td>1.698</td>\n",
              "      <td>1.687</td>\n",
              "      <td>1.698</td>\n",
              "      <td>1.717</td>\n",
              "      <td>1.744</td>\n",
              "      <td>0.593</td>\n",
              "      <td>0.502</td>\n",
              "      <td>0.493</td>\n",
              "      <td>0.504</td>\n",
              "      <td>0.445</td>\n",
              "      <td>0.431</td>\n",
              "      <td>0.444</td>\n",
              "      <td>0.440</td>\n",
              "      <td>0.429</td>\n",
              "      <td>3</td>\n",
              "    </tr>\n",
              "    <tr>\n",
              "      <th>1</th>\n",
              "      <td>0.438</td>\n",
              "      <td>0.498</td>\n",
              "      <td>3.625</td>\n",
              "      <td>3.648</td>\n",
              "      <td>5.0</td>\n",
              "      <td>2.918</td>\n",
              "      <td>5.0</td>\n",
              "      <td>2.637</td>\n",
              "      <td>2.332</td>\n",
              "      <td>2.649</td>\n",
              "      <td>1.695</td>\n",
              "      <td>1.687</td>\n",
              "      <td>1.695</td>\n",
              "      <td>1.720</td>\n",
              "      <td>1.744</td>\n",
              "      <td>0.592</td>\n",
              "      <td>0.502</td>\n",
              "      <td>0.493</td>\n",
              "      <td>0.504</td>\n",
              "      <td>0.449</td>\n",
              "      <td>0.431</td>\n",
              "      <td>0.444</td>\n",
              "      <td>0.443</td>\n",
              "      <td>0.429</td>\n",
              "      <td>3</td>\n",
              "    </tr>\n",
              "    <tr>\n",
              "      <th>2</th>\n",
              "      <td>0.438</td>\n",
              "      <td>0.498</td>\n",
              "      <td>3.625</td>\n",
              "      <td>3.629</td>\n",
              "      <td>5.0</td>\n",
              "      <td>2.918</td>\n",
              "      <td>5.0</td>\n",
              "      <td>2.637</td>\n",
              "      <td>2.334</td>\n",
              "      <td>2.643</td>\n",
              "      <td>1.696</td>\n",
              "      <td>1.687</td>\n",
              "      <td>1.695</td>\n",
              "      <td>1.717</td>\n",
              "      <td>1.744</td>\n",
              "      <td>0.593</td>\n",
              "      <td>0.502</td>\n",
              "      <td>0.493</td>\n",
              "      <td>0.504</td>\n",
              "      <td>0.449</td>\n",
              "      <td>0.431</td>\n",
              "      <td>0.444</td>\n",
              "      <td>0.446</td>\n",
              "      <td>0.429</td>\n",
              "      <td>3</td>\n",
              "    </tr>\n",
              "    <tr>\n",
              "      <th>3</th>\n",
              "      <td>0.437</td>\n",
              "      <td>0.501</td>\n",
              "      <td>3.625</td>\n",
              "      <td>3.626</td>\n",
              "      <td>5.0</td>\n",
              "      <td>2.918</td>\n",
              "      <td>5.0</td>\n",
              "      <td>2.353</td>\n",
              "      <td>2.334</td>\n",
              "      <td>2.642</td>\n",
              "      <td>1.730</td>\n",
              "      <td>1.687</td>\n",
              "      <td>1.695</td>\n",
              "      <td>1.717</td>\n",
              "      <td>1.744</td>\n",
              "      <td>0.593</td>\n",
              "      <td>0.502</td>\n",
              "      <td>0.493</td>\n",
              "      <td>0.504</td>\n",
              "      <td>0.449</td>\n",
              "      <td>0.431</td>\n",
              "      <td>0.444</td>\n",
              "      <td>0.444</td>\n",
              "      <td>0.429</td>\n",
              "      <td>3</td>\n",
              "    </tr>\n",
              "    <tr>\n",
              "      <th>4</th>\n",
              "      <td>0.438</td>\n",
              "      <td>0.498</td>\n",
              "      <td>3.626</td>\n",
              "      <td>3.629</td>\n",
              "      <td>5.0</td>\n",
              "      <td>2.918</td>\n",
              "      <td>5.0</td>\n",
              "      <td>2.640</td>\n",
              "      <td>2.334</td>\n",
              "      <td>2.639</td>\n",
              "      <td>1.696</td>\n",
              "      <td>1.687</td>\n",
              "      <td>1.695</td>\n",
              "      <td>1.717</td>\n",
              "      <td>1.744</td>\n",
              "      <td>0.592</td>\n",
              "      <td>0.502</td>\n",
              "      <td>0.493</td>\n",
              "      <td>0.504</td>\n",
              "      <td>0.449</td>\n",
              "      <td>0.431</td>\n",
              "      <td>0.444</td>\n",
              "      <td>0.441</td>\n",
              "      <td>0.429</td>\n",
              "      <td>3</td>\n",
              "    </tr>\n",
              "  </tbody>\n",
              "</table>\n",
              "</div>"
            ],
            "text/plain": [
              "       a      b      c      d    e      f  ...      t      u      v      w      x  y\n",
              "0  0.438  0.498  3.625  3.645  5.0  2.918  ...  0.445  0.431  0.444  0.440  0.429  3\n",
              "1  0.438  0.498  3.625  3.648  5.0  2.918  ...  0.449  0.431  0.444  0.443  0.429  3\n",
              "2  0.438  0.498  3.625  3.629  5.0  2.918  ...  0.449  0.431  0.444  0.446  0.429  3\n",
              "3  0.437  0.501  3.625  3.626  5.0  2.918  ...  0.449  0.431  0.444  0.444  0.429  3\n",
              "4  0.438  0.498  3.626  3.629  5.0  2.918  ...  0.449  0.431  0.444  0.441  0.429  3\n",
              "\n",
              "[5 rows x 25 columns]"
            ]
          },
          "metadata": {
            "tags": []
          },
          "execution_count": 6
        }
      ]
    },
    {
      "cell_type": "code",
      "metadata": {
        "id": "TzwnVtAR1JbN",
        "colab_type": "code",
        "colab": {}
      },
      "source": [
        "x = dataset.iloc[:, :-1]\n",
        "y = dataset.iloc[:, -1]"
      ],
      "execution_count": 0,
      "outputs": []
    },
    {
      "cell_type": "code",
      "metadata": {
        "id": "o1uSafBY1V2t",
        "colab_type": "code",
        "outputId": "9d51ea32-64cf-46fc-f1ab-571c0cefb2d2",
        "colab": {
          "base_uri": "https://localhost:8080/",
          "height": 427
        }
      },
      "source": [
        "x"
      ],
      "execution_count": 0,
      "outputs": [
        {
          "output_type": "execute_result",
          "data": {
            "text/html": [
              "<div>\n",
              "<style scoped>\n",
              "    .dataframe tbody tr th:only-of-type {\n",
              "        vertical-align: middle;\n",
              "    }\n",
              "\n",
              "    .dataframe tbody tr th {\n",
              "        vertical-align: top;\n",
              "    }\n",
              "\n",
              "    .dataframe thead th {\n",
              "        text-align: right;\n",
              "    }\n",
              "</style>\n",
              "<table border=\"1\" class=\"dataframe\">\n",
              "  <thead>\n",
              "    <tr style=\"text-align: right;\">\n",
              "      <th></th>\n",
              "      <th>a</th>\n",
              "      <th>b</th>\n",
              "      <th>c</th>\n",
              "      <th>d</th>\n",
              "      <th>e</th>\n",
              "      <th>f</th>\n",
              "      <th>g</th>\n",
              "      <th>h</th>\n",
              "      <th>i</th>\n",
              "      <th>j</th>\n",
              "      <th>k</th>\n",
              "      <th>l</th>\n",
              "      <th>m</th>\n",
              "      <th>n</th>\n",
              "      <th>o</th>\n",
              "      <th>p</th>\n",
              "      <th>q</th>\n",
              "      <th>r</th>\n",
              "      <th>s</th>\n",
              "      <th>t</th>\n",
              "      <th>u</th>\n",
              "      <th>v</th>\n",
              "      <th>w</th>\n",
              "      <th>x</th>\n",
              "    </tr>\n",
              "  </thead>\n",
              "  <tbody>\n",
              "    <tr>\n",
              "      <th>0</th>\n",
              "      <td>0.438</td>\n",
              "      <td>0.498</td>\n",
              "      <td>3.625</td>\n",
              "      <td>3.645</td>\n",
              "      <td>5.000</td>\n",
              "      <td>2.918</td>\n",
              "      <td>5.000</td>\n",
              "      <td>2.351</td>\n",
              "      <td>2.332</td>\n",
              "      <td>2.643</td>\n",
              "      <td>1.698</td>\n",
              "      <td>1.687</td>\n",
              "      <td>1.698</td>\n",
              "      <td>1.717</td>\n",
              "      <td>1.744</td>\n",
              "      <td>0.593</td>\n",
              "      <td>0.502</td>\n",
              "      <td>0.493</td>\n",
              "      <td>0.504</td>\n",
              "      <td>0.445</td>\n",
              "      <td>0.431</td>\n",
              "      <td>0.444</td>\n",
              "      <td>0.440</td>\n",
              "      <td>0.429</td>\n",
              "    </tr>\n",
              "    <tr>\n",
              "      <th>1</th>\n",
              "      <td>0.438</td>\n",
              "      <td>0.498</td>\n",
              "      <td>3.625</td>\n",
              "      <td>3.648</td>\n",
              "      <td>5.000</td>\n",
              "      <td>2.918</td>\n",
              "      <td>5.000</td>\n",
              "      <td>2.637</td>\n",
              "      <td>2.332</td>\n",
              "      <td>2.649</td>\n",
              "      <td>1.695</td>\n",
              "      <td>1.687</td>\n",
              "      <td>1.695</td>\n",
              "      <td>1.720</td>\n",
              "      <td>1.744</td>\n",
              "      <td>0.592</td>\n",
              "      <td>0.502</td>\n",
              "      <td>0.493</td>\n",
              "      <td>0.504</td>\n",
              "      <td>0.449</td>\n",
              "      <td>0.431</td>\n",
              "      <td>0.444</td>\n",
              "      <td>0.443</td>\n",
              "      <td>0.429</td>\n",
              "    </tr>\n",
              "    <tr>\n",
              "      <th>2</th>\n",
              "      <td>0.438</td>\n",
              "      <td>0.498</td>\n",
              "      <td>3.625</td>\n",
              "      <td>3.629</td>\n",
              "      <td>5.000</td>\n",
              "      <td>2.918</td>\n",
              "      <td>5.000</td>\n",
              "      <td>2.637</td>\n",
              "      <td>2.334</td>\n",
              "      <td>2.643</td>\n",
              "      <td>1.696</td>\n",
              "      <td>1.687</td>\n",
              "      <td>1.695</td>\n",
              "      <td>1.717</td>\n",
              "      <td>1.744</td>\n",
              "      <td>0.593</td>\n",
              "      <td>0.502</td>\n",
              "      <td>0.493</td>\n",
              "      <td>0.504</td>\n",
              "      <td>0.449</td>\n",
              "      <td>0.431</td>\n",
              "      <td>0.444</td>\n",
              "      <td>0.446</td>\n",
              "      <td>0.429</td>\n",
              "    </tr>\n",
              "    <tr>\n",
              "      <th>3</th>\n",
              "      <td>0.437</td>\n",
              "      <td>0.501</td>\n",
              "      <td>3.625</td>\n",
              "      <td>3.626</td>\n",
              "      <td>5.000</td>\n",
              "      <td>2.918</td>\n",
              "      <td>5.000</td>\n",
              "      <td>2.353</td>\n",
              "      <td>2.334</td>\n",
              "      <td>2.642</td>\n",
              "      <td>1.730</td>\n",
              "      <td>1.687</td>\n",
              "      <td>1.695</td>\n",
              "      <td>1.717</td>\n",
              "      <td>1.744</td>\n",
              "      <td>0.593</td>\n",
              "      <td>0.502</td>\n",
              "      <td>0.493</td>\n",
              "      <td>0.504</td>\n",
              "      <td>0.449</td>\n",
              "      <td>0.431</td>\n",
              "      <td>0.444</td>\n",
              "      <td>0.444</td>\n",
              "      <td>0.429</td>\n",
              "    </tr>\n",
              "    <tr>\n",
              "      <th>4</th>\n",
              "      <td>0.438</td>\n",
              "      <td>0.498</td>\n",
              "      <td>3.626</td>\n",
              "      <td>3.629</td>\n",
              "      <td>5.000</td>\n",
              "      <td>2.918</td>\n",
              "      <td>5.000</td>\n",
              "      <td>2.640</td>\n",
              "      <td>2.334</td>\n",
              "      <td>2.639</td>\n",
              "      <td>1.696</td>\n",
              "      <td>1.687</td>\n",
              "      <td>1.695</td>\n",
              "      <td>1.717</td>\n",
              "      <td>1.744</td>\n",
              "      <td>0.592</td>\n",
              "      <td>0.502</td>\n",
              "      <td>0.493</td>\n",
              "      <td>0.504</td>\n",
              "      <td>0.449</td>\n",
              "      <td>0.431</td>\n",
              "      <td>0.444</td>\n",
              "      <td>0.441</td>\n",
              "      <td>0.429</td>\n",
              "    </tr>\n",
              "    <tr>\n",
              "      <th>...</th>\n",
              "      <td>...</td>\n",
              "      <td>...</td>\n",
              "      <td>...</td>\n",
              "      <td>...</td>\n",
              "      <td>...</td>\n",
              "      <td>...</td>\n",
              "      <td>...</td>\n",
              "      <td>...</td>\n",
              "      <td>...</td>\n",
              "      <td>...</td>\n",
              "      <td>...</td>\n",
              "      <td>...</td>\n",
              "      <td>...</td>\n",
              "      <td>...</td>\n",
              "      <td>...</td>\n",
              "      <td>...</td>\n",
              "      <td>...</td>\n",
              "      <td>...</td>\n",
              "      <td>...</td>\n",
              "      <td>...</td>\n",
              "      <td>...</td>\n",
              "      <td>...</td>\n",
              "      <td>...</td>\n",
              "      <td>...</td>\n",
              "    </tr>\n",
              "    <tr>\n",
              "      <th>5451</th>\n",
              "      <td>0.910</td>\n",
              "      <td>5.000</td>\n",
              "      <td>3.997</td>\n",
              "      <td>2.785</td>\n",
              "      <td>2.770</td>\n",
              "      <td>2.572</td>\n",
              "      <td>2.433</td>\n",
              "      <td>1.087</td>\n",
              "      <td>1.772</td>\n",
              "      <td>1.040</td>\n",
              "      <td>1.024</td>\n",
              "      <td>1.057</td>\n",
              "      <td>1.285</td>\n",
              "      <td>1.285</td>\n",
              "      <td>5.000</td>\n",
              "      <td>0.660</td>\n",
              "      <td>0.648</td>\n",
              "      <td>0.657</td>\n",
              "      <td>0.686</td>\n",
              "      <td>5.000</td>\n",
              "      <td>1.045</td>\n",
              "      <td>5.000</td>\n",
              "      <td>5.000</td>\n",
              "      <td>1.562</td>\n",
              "    </tr>\n",
              "    <tr>\n",
              "      <th>5452</th>\n",
              "      <td>0.926</td>\n",
              "      <td>5.000</td>\n",
              "      <td>4.015</td>\n",
              "      <td>2.792</td>\n",
              "      <td>2.777</td>\n",
              "      <td>2.571</td>\n",
              "      <td>1.768</td>\n",
              "      <td>1.071</td>\n",
              "      <td>1.762</td>\n",
              "      <td>1.021</td>\n",
              "      <td>1.005</td>\n",
              "      <td>1.044</td>\n",
              "      <td>1.269</td>\n",
              "      <td>1.266</td>\n",
              "      <td>0.894</td>\n",
              "      <td>0.652</td>\n",
              "      <td>0.640</td>\n",
              "      <td>0.649</td>\n",
              "      <td>1.593</td>\n",
              "      <td>1.616</td>\n",
              "      <td>1.058</td>\n",
              "      <td>5.000</td>\n",
              "      <td>5.000</td>\n",
              "      <td>1.085</td>\n",
              "    </tr>\n",
              "    <tr>\n",
              "      <th>5453</th>\n",
              "      <td>0.937</td>\n",
              "      <td>5.000</td>\n",
              "      <td>4.034</td>\n",
              "      <td>2.799</td>\n",
              "      <td>2.784</td>\n",
              "      <td>2.571</td>\n",
              "      <td>1.754</td>\n",
              "      <td>1.053</td>\n",
              "      <td>1.752</td>\n",
              "      <td>1.002</td>\n",
              "      <td>0.987</td>\n",
              "      <td>1.001</td>\n",
              "      <td>1.078</td>\n",
              "      <td>1.246</td>\n",
              "      <td>0.873</td>\n",
              "      <td>0.648</td>\n",
              "      <td>0.633</td>\n",
              "      <td>0.642</td>\n",
              "      <td>0.741</td>\n",
              "      <td>5.000</td>\n",
              "      <td>1.065</td>\n",
              "      <td>5.000</td>\n",
              "      <td>5.000</td>\n",
              "      <td>1.105</td>\n",
              "    </tr>\n",
              "    <tr>\n",
              "      <th>5454</th>\n",
              "      <td>0.945</td>\n",
              "      <td>4.052</td>\n",
              "      <td>4.052</td>\n",
              "      <td>2.809</td>\n",
              "      <td>2.791</td>\n",
              "      <td>2.441</td>\n",
              "      <td>1.757</td>\n",
              "      <td>1.034</td>\n",
              "      <td>1.743</td>\n",
              "      <td>0.983</td>\n",
              "      <td>0.967</td>\n",
              "      <td>0.979</td>\n",
              "      <td>1.055</td>\n",
              "      <td>1.227</td>\n",
              "      <td>5.000</td>\n",
              "      <td>0.641</td>\n",
              "      <td>0.626</td>\n",
              "      <td>0.635</td>\n",
              "      <td>0.754</td>\n",
              "      <td>5.000</td>\n",
              "      <td>1.076</td>\n",
              "      <td>5.000</td>\n",
              "      <td>5.000</td>\n",
              "      <td>1.118</td>\n",
              "    </tr>\n",
              "    <tr>\n",
              "      <th>5455</th>\n",
              "      <td>0.950</td>\n",
              "      <td>4.066</td>\n",
              "      <td>5.000</td>\n",
              "      <td>2.819</td>\n",
              "      <td>2.798</td>\n",
              "      <td>2.570</td>\n",
              "      <td>2.422</td>\n",
              "      <td>1.016</td>\n",
              "      <td>1.739</td>\n",
              "      <td>0.964</td>\n",
              "      <td>0.949</td>\n",
              "      <td>0.956</td>\n",
              "      <td>1.007</td>\n",
              "      <td>1.208</td>\n",
              "      <td>0.854</td>\n",
              "      <td>0.635</td>\n",
              "      <td>0.618</td>\n",
              "      <td>0.628</td>\n",
              "      <td>0.776</td>\n",
              "      <td>5.000</td>\n",
              "      <td>1.083</td>\n",
              "      <td>5.000</td>\n",
              "      <td>5.000</td>\n",
              "      <td>1.168</td>\n",
              "    </tr>\n",
              "  </tbody>\n",
              "</table>\n",
              "<p>5456 rows × 24 columns</p>\n",
              "</div>"
            ],
            "text/plain": [
              "          a      b      c      d      e  ...      t      u      v      w      x\n",
              "0     0.438  0.498  3.625  3.645  5.000  ...  0.445  0.431  0.444  0.440  0.429\n",
              "1     0.438  0.498  3.625  3.648  5.000  ...  0.449  0.431  0.444  0.443  0.429\n",
              "2     0.438  0.498  3.625  3.629  5.000  ...  0.449  0.431  0.444  0.446  0.429\n",
              "3     0.437  0.501  3.625  3.626  5.000  ...  0.449  0.431  0.444  0.444  0.429\n",
              "4     0.438  0.498  3.626  3.629  5.000  ...  0.449  0.431  0.444  0.441  0.429\n",
              "...     ...    ...    ...    ...    ...  ...    ...    ...    ...    ...    ...\n",
              "5451  0.910  5.000  3.997  2.785  2.770  ...  5.000  1.045  5.000  5.000  1.562\n",
              "5452  0.926  5.000  4.015  2.792  2.777  ...  1.616  1.058  5.000  5.000  1.085\n",
              "5453  0.937  5.000  4.034  2.799  2.784  ...  5.000  1.065  5.000  5.000  1.105\n",
              "5454  0.945  4.052  4.052  2.809  2.791  ...  5.000  1.076  5.000  5.000  1.118\n",
              "5455  0.950  4.066  5.000  2.819  2.798  ...  5.000  1.083  5.000  5.000  1.168\n",
              "\n",
              "[5456 rows x 24 columns]"
            ]
          },
          "metadata": {
            "tags": []
          },
          "execution_count": 8
        }
      ]
    },
    {
      "cell_type": "code",
      "metadata": {
        "id": "Z78f6Nwx1ct0",
        "colab_type": "code",
        "outputId": "00bb12ea-d829-422a-a364-43569c99a184",
        "colab": {
          "base_uri": "https://localhost:8080/",
          "height": 235
        }
      },
      "source": [
        "y"
      ],
      "execution_count": 0,
      "outputs": [
        {
          "output_type": "execute_result",
          "data": {
            "text/plain": [
              "0       3\n",
              "1       3\n",
              "2       3\n",
              "3       3\n",
              "4       3\n",
              "       ..\n",
              "5451    0\n",
              "5452    1\n",
              "5453    1\n",
              "5454    0\n",
              "5455    1\n",
              "Name: y, Length: 5456, dtype: int64"
            ]
          },
          "metadata": {
            "tags": []
          },
          "execution_count": 9
        }
      ]
    },
    {
      "cell_type": "code",
      "metadata": {
        "id": "kSoLcht91hf_",
        "colab_type": "code",
        "colab": {}
      },
      "source": [
        "x_train,x_test,y_train,y_test = train_test_split(x,y, test_size = 0.2, random_state=0)"
      ],
      "execution_count": 0,
      "outputs": []
    },
    {
      "cell_type": "code",
      "metadata": {
        "id": "uGkbLQXo1trF",
        "colab_type": "code",
        "outputId": "488fb4a5-c2ea-49eb-cc29-e3f08415ecd9",
        "colab": {
          "base_uri": "https://localhost:8080/",
          "height": 35
        }
      },
      "source": [
        "x_train.shape"
      ],
      "execution_count": 0,
      "outputs": [
        {
          "output_type": "execute_result",
          "data": {
            "text/plain": [
              "(4364, 24)"
            ]
          },
          "metadata": {
            "tags": []
          },
          "execution_count": 11
        }
      ]
    },
    {
      "cell_type": "code",
      "metadata": {
        "id": "RgPRMIZs1vXr",
        "colab_type": "code",
        "outputId": "01a395f0-098f-4e80-b76c-f0c0e17094ab",
        "colab": {
          "base_uri": "https://localhost:8080/",
          "height": 35
        }
      },
      "source": [
        "y_train.shape"
      ],
      "execution_count": 0,
      "outputs": [
        {
          "output_type": "execute_result",
          "data": {
            "text/plain": [
              "(4364,)"
            ]
          },
          "metadata": {
            "tags": []
          },
          "execution_count": 12
        }
      ]
    },
    {
      "cell_type": "code",
      "metadata": {
        "id": "4M3ZYfuW1xnw",
        "colab_type": "code",
        "outputId": "aaa6eab9-6bc5-451f-8502-e2fbdb88ae4d",
        "colab": {
          "base_uri": "https://localhost:8080/",
          "height": 35
        }
      },
      "source": [
        "set(y_train)"
      ],
      "execution_count": 0,
      "outputs": [
        {
          "output_type": "execute_result",
          "data": {
            "text/plain": [
              "{0, 1, 2, 3}"
            ]
          },
          "metadata": {
            "tags": []
          },
          "execution_count": 13
        }
      ]
    },
    {
      "cell_type": "code",
      "metadata": {
        "id": "U-PkNeEe0Smx",
        "colab_type": "code",
        "outputId": "fa25a130-fa23-4a06-85cc-b1dcf96e6dd4",
        "colab": {
          "base_uri": "https://localhost:8080/",
          "height": 35
        }
      },
      "source": [
        "x_test.shape"
      ],
      "execution_count": 0,
      "outputs": [
        {
          "output_type": "execute_result",
          "data": {
            "text/plain": [
              "(1092, 24)"
            ]
          },
          "metadata": {
            "tags": []
          },
          "execution_count": 14
        }
      ]
    },
    {
      "cell_type": "code",
      "metadata": {
        "id": "686WkIfV0WFM",
        "colab_type": "code",
        "outputId": "a62c9444-2379-44ac-b766-861420300d62",
        "colab": {
          "base_uri": "https://localhost:8080/",
          "height": 35
        }
      },
      "source": [
        "y_test.shape"
      ],
      "execution_count": 0,
      "outputs": [
        {
          "output_type": "execute_result",
          "data": {
            "text/plain": [
              "(1092,)"
            ]
          },
          "metadata": {
            "tags": []
          },
          "execution_count": 15
        }
      ]
    },
    {
      "cell_type": "code",
      "metadata": {
        "id": "8oRHD7YT0WAs",
        "colab_type": "code",
        "outputId": "a4029b37-b44b-4625-9a87-091ea78ad0a7",
        "colab": {
          "base_uri": "https://localhost:8080/",
          "height": 235
        }
      },
      "source": [
        "y_train"
      ],
      "execution_count": 0,
      "outputs": [
        {
          "output_type": "execute_result",
          "data": {
            "text/plain": [
              "565     0\n",
              "1763    1\n",
              "104     1\n",
              "188     1\n",
              "3758    0\n",
              "       ..\n",
              "4931    0\n",
              "3264    3\n",
              "1653    3\n",
              "2607    2\n",
              "2732    1\n",
              "Name: y, Length: 4364, dtype: int64"
            ]
          },
          "metadata": {
            "tags": []
          },
          "execution_count": 16
        }
      ]
    },
    {
      "cell_type": "code",
      "metadata": {
        "id": "VSa8vSEU09le",
        "colab_type": "code",
        "outputId": "573c092c-4d8e-4f93-ff35-53f88e3759ec",
        "colab": {
          "base_uri": "https://localhost:8080/",
          "height": 427
        }
      },
      "source": [
        "x_train"
      ],
      "execution_count": 0,
      "outputs": [
        {
          "output_type": "execute_result",
          "data": {
            "text/html": [
              "<div>\n",
              "<style scoped>\n",
              "    .dataframe tbody tr th:only-of-type {\n",
              "        vertical-align: middle;\n",
              "    }\n",
              "\n",
              "    .dataframe tbody tr th {\n",
              "        vertical-align: top;\n",
              "    }\n",
              "\n",
              "    .dataframe thead th {\n",
              "        text-align: right;\n",
              "    }\n",
              "</style>\n",
              "<table border=\"1\" class=\"dataframe\">\n",
              "  <thead>\n",
              "    <tr style=\"text-align: right;\">\n",
              "      <th></th>\n",
              "      <th>a</th>\n",
              "      <th>b</th>\n",
              "      <th>c</th>\n",
              "      <th>d</th>\n",
              "      <th>e</th>\n",
              "      <th>f</th>\n",
              "      <th>g</th>\n",
              "      <th>h</th>\n",
              "      <th>i</th>\n",
              "      <th>j</th>\n",
              "      <th>k</th>\n",
              "      <th>l</th>\n",
              "      <th>m</th>\n",
              "      <th>n</th>\n",
              "      <th>o</th>\n",
              "      <th>p</th>\n",
              "      <th>q</th>\n",
              "      <th>r</th>\n",
              "      <th>s</th>\n",
              "      <th>t</th>\n",
              "      <th>u</th>\n",
              "      <th>v</th>\n",
              "      <th>w</th>\n",
              "      <th>x</th>\n",
              "    </tr>\n",
              "  </thead>\n",
              "  <tbody>\n",
              "    <tr>\n",
              "      <th>565</th>\n",
              "      <td>0.761</td>\n",
              "      <td>0.787</td>\n",
              "      <td>1.540</td>\n",
              "      <td>2.114</td>\n",
              "      <td>3.298</td>\n",
              "      <td>5.000</td>\n",
              "      <td>5.000</td>\n",
              "      <td>4.098</td>\n",
              "      <td>5.000</td>\n",
              "      <td>1.499</td>\n",
              "      <td>1.481</td>\n",
              "      <td>1.492</td>\n",
              "      <td>2.585</td>\n",
              "      <td>5.000</td>\n",
              "      <td>5.000</td>\n",
              "      <td>0.705</td>\n",
              "      <td>0.694</td>\n",
              "      <td>0.700</td>\n",
              "      <td>0.726</td>\n",
              "      <td>1.070</td>\n",
              "      <td>0.758</td>\n",
              "      <td>0.742</td>\n",
              "      <td>0.731</td>\n",
              "      <td>0.741</td>\n",
              "    </tr>\n",
              "    <tr>\n",
              "      <th>1763</th>\n",
              "      <td>2.546</td>\n",
              "      <td>2.635</td>\n",
              "      <td>2.179</td>\n",
              "      <td>2.489</td>\n",
              "      <td>1.875</td>\n",
              "      <td>1.376</td>\n",
              "      <td>1.338</td>\n",
              "      <td>1.324</td>\n",
              "      <td>1.343</td>\n",
              "      <td>1.596</td>\n",
              "      <td>1.639</td>\n",
              "      <td>0.797</td>\n",
              "      <td>0.783</td>\n",
              "      <td>0.780</td>\n",
              "      <td>5.000</td>\n",
              "      <td>0.900</td>\n",
              "      <td>0.884</td>\n",
              "      <td>0.891</td>\n",
              "      <td>0.797</td>\n",
              "      <td>0.785</td>\n",
              "      <td>5.000</td>\n",
              "      <td>4.840</td>\n",
              "      <td>3.624</td>\n",
              "      <td>5.000</td>\n",
              "    </tr>\n",
              "    <tr>\n",
              "      <th>104</th>\n",
              "      <td>1.250</td>\n",
              "      <td>1.274</td>\n",
              "      <td>1.299</td>\n",
              "      <td>1.336</td>\n",
              "      <td>4.893</td>\n",
              "      <td>5.000</td>\n",
              "      <td>5.000</td>\n",
              "      <td>2.731</td>\n",
              "      <td>2.484</td>\n",
              "      <td>1.975</td>\n",
              "      <td>1.582</td>\n",
              "      <td>0.837</td>\n",
              "      <td>0.815</td>\n",
              "      <td>0.796</td>\n",
              "      <td>0.807</td>\n",
              "      <td>0.883</td>\n",
              "      <td>1.129</td>\n",
              "      <td>1.132</td>\n",
              "      <td>0.684</td>\n",
              "      <td>0.665</td>\n",
              "      <td>0.697</td>\n",
              "      <td>0.785</td>\n",
              "      <td>5.000</td>\n",
              "      <td>1.240</td>\n",
              "    </tr>\n",
              "    <tr>\n",
              "      <th>188</th>\n",
              "      <td>1.360</td>\n",
              "      <td>5.000</td>\n",
              "      <td>1.897</td>\n",
              "      <td>1.909</td>\n",
              "      <td>3.207</td>\n",
              "      <td>3.207</td>\n",
              "      <td>5.000</td>\n",
              "      <td>4.542</td>\n",
              "      <td>5.000</td>\n",
              "      <td>5.000</td>\n",
              "      <td>1.590</td>\n",
              "      <td>1.646</td>\n",
              "      <td>1.588</td>\n",
              "      <td>0.865</td>\n",
              "      <td>5.000</td>\n",
              "      <td>0.547</td>\n",
              "      <td>0.489</td>\n",
              "      <td>0.489</td>\n",
              "      <td>0.502</td>\n",
              "      <td>0.687</td>\n",
              "      <td>1.059</td>\n",
              "      <td>1.373</td>\n",
              "      <td>1.345</td>\n",
              "      <td>1.347</td>\n",
              "    </tr>\n",
              "    <tr>\n",
              "      <th>3758</th>\n",
              "      <td>0.673</td>\n",
              "      <td>4.861</td>\n",
              "      <td>1.331</td>\n",
              "      <td>1.352</td>\n",
              "      <td>1.434</td>\n",
              "      <td>1.466</td>\n",
              "      <td>5.000</td>\n",
              "      <td>1.475</td>\n",
              "      <td>5.000</td>\n",
              "      <td>5.000</td>\n",
              "      <td>2.769</td>\n",
              "      <td>2.268</td>\n",
              "      <td>1.529</td>\n",
              "      <td>1.532</td>\n",
              "      <td>4.899</td>\n",
              "      <td>0.689</td>\n",
              "      <td>0.677</td>\n",
              "      <td>0.685</td>\n",
              "      <td>0.759</td>\n",
              "      <td>0.726</td>\n",
              "      <td>0.688</td>\n",
              "      <td>0.667</td>\n",
              "      <td>0.651</td>\n",
              "      <td>0.665</td>\n",
              "    </tr>\n",
              "    <tr>\n",
              "      <th>...</th>\n",
              "      <td>...</td>\n",
              "      <td>...</td>\n",
              "      <td>...</td>\n",
              "      <td>...</td>\n",
              "      <td>...</td>\n",
              "      <td>...</td>\n",
              "      <td>...</td>\n",
              "      <td>...</td>\n",
              "      <td>...</td>\n",
              "      <td>...</td>\n",
              "      <td>...</td>\n",
              "      <td>...</td>\n",
              "      <td>...</td>\n",
              "      <td>...</td>\n",
              "      <td>...</td>\n",
              "      <td>...</td>\n",
              "      <td>...</td>\n",
              "      <td>...</td>\n",
              "      <td>...</td>\n",
              "      <td>...</td>\n",
              "      <td>...</td>\n",
              "      <td>...</td>\n",
              "      <td>...</td>\n",
              "      <td>...</td>\n",
              "    </tr>\n",
              "    <tr>\n",
              "      <th>4931</th>\n",
              "      <td>0.745</td>\n",
              "      <td>5.000</td>\n",
              "      <td>5.000</td>\n",
              "      <td>3.333</td>\n",
              "      <td>2.883</td>\n",
              "      <td>2.844</td>\n",
              "      <td>5.000</td>\n",
              "      <td>2.203</td>\n",
              "      <td>2.890</td>\n",
              "      <td>2.910</td>\n",
              "      <td>2.233</td>\n",
              "      <td>2.218</td>\n",
              "      <td>2.232</td>\n",
              "      <td>1.231</td>\n",
              "      <td>3.455</td>\n",
              "      <td>0.607</td>\n",
              "      <td>0.584</td>\n",
              "      <td>0.582</td>\n",
              "      <td>0.589</td>\n",
              "      <td>0.670</td>\n",
              "      <td>0.694</td>\n",
              "      <td>0.689</td>\n",
              "      <td>0.700</td>\n",
              "      <td>0.725</td>\n",
              "    </tr>\n",
              "    <tr>\n",
              "      <th>3264</th>\n",
              "      <td>1.129</td>\n",
              "      <td>5.000</td>\n",
              "      <td>5.000</td>\n",
              "      <td>5.000</td>\n",
              "      <td>4.248</td>\n",
              "      <td>5.000</td>\n",
              "      <td>5.000</td>\n",
              "      <td>1.855</td>\n",
              "      <td>2.569</td>\n",
              "      <td>2.551</td>\n",
              "      <td>1.719</td>\n",
              "      <td>1.697</td>\n",
              "      <td>1.690</td>\n",
              "      <td>1.700</td>\n",
              "      <td>1.731</td>\n",
              "      <td>0.750</td>\n",
              "      <td>0.514</td>\n",
              "      <td>0.488</td>\n",
              "      <td>0.481</td>\n",
              "      <td>0.488</td>\n",
              "      <td>0.635</td>\n",
              "      <td>1.111</td>\n",
              "      <td>1.096</td>\n",
              "      <td>1.139</td>\n",
              "    </tr>\n",
              "    <tr>\n",
              "      <th>1653</th>\n",
              "      <td>1.464</td>\n",
              "      <td>2.491</td>\n",
              "      <td>2.494</td>\n",
              "      <td>1.928</td>\n",
              "      <td>1.919</td>\n",
              "      <td>1.926</td>\n",
              "      <td>5.000</td>\n",
              "      <td>1.971</td>\n",
              "      <td>2.280</td>\n",
              "      <td>2.254</td>\n",
              "      <td>2.243</td>\n",
              "      <td>2.312</td>\n",
              "      <td>2.753</td>\n",
              "      <td>5.000</td>\n",
              "      <td>5.000</td>\n",
              "      <td>5.000</td>\n",
              "      <td>5.000</td>\n",
              "      <td>0.392</td>\n",
              "      <td>0.476</td>\n",
              "      <td>0.429</td>\n",
              "      <td>1.463</td>\n",
              "      <td>1.448</td>\n",
              "      <td>1.438</td>\n",
              "      <td>1.448</td>\n",
              "    </tr>\n",
              "    <tr>\n",
              "      <th>2607</th>\n",
              "      <td>2.052</td>\n",
              "      <td>2.052</td>\n",
              "      <td>2.034</td>\n",
              "      <td>2.001</td>\n",
              "      <td>1.991</td>\n",
              "      <td>2.019</td>\n",
              "      <td>2.252</td>\n",
              "      <td>1.709</td>\n",
              "      <td>1.688</td>\n",
              "      <td>1.663</td>\n",
              "      <td>1.651</td>\n",
              "      <td>1.666</td>\n",
              "      <td>1.989</td>\n",
              "      <td>2.238</td>\n",
              "      <td>5.000</td>\n",
              "      <td>1.414</td>\n",
              "      <td>1.402</td>\n",
              "      <td>1.414</td>\n",
              "      <td>2.756</td>\n",
              "      <td>2.090</td>\n",
              "      <td>0.749</td>\n",
              "      <td>2.037</td>\n",
              "      <td>2.027</td>\n",
              "      <td>2.045</td>\n",
              "    </tr>\n",
              "    <tr>\n",
              "      <th>2732</th>\n",
              "      <td>2.477</td>\n",
              "      <td>2.349</td>\n",
              "      <td>1.716</td>\n",
              "      <td>1.575</td>\n",
              "      <td>1.168</td>\n",
              "      <td>1.151</td>\n",
              "      <td>1.151</td>\n",
              "      <td>1.173</td>\n",
              "      <td>0.895</td>\n",
              "      <td>1.491</td>\n",
              "      <td>0.838</td>\n",
              "      <td>0.823</td>\n",
              "      <td>0.828</td>\n",
              "      <td>5.000</td>\n",
              "      <td>5.000</td>\n",
              "      <td>1.045</td>\n",
              "      <td>1.055</td>\n",
              "      <td>0.968</td>\n",
              "      <td>0.963</td>\n",
              "      <td>4.427</td>\n",
              "      <td>3.711</td>\n",
              "      <td>3.714</td>\n",
              "      <td>5.000</td>\n",
              "      <td>2.407</td>\n",
              "    </tr>\n",
              "  </tbody>\n",
              "</table>\n",
              "<p>4364 rows × 24 columns</p>\n",
              "</div>"
            ],
            "text/plain": [
              "          a      b      c      d      e  ...      t      u      v      w      x\n",
              "565   0.761  0.787  1.540  2.114  3.298  ...  1.070  0.758  0.742  0.731  0.741\n",
              "1763  2.546  2.635  2.179  2.489  1.875  ...  0.785  5.000  4.840  3.624  5.000\n",
              "104   1.250  1.274  1.299  1.336  4.893  ...  0.665  0.697  0.785  5.000  1.240\n",
              "188   1.360  5.000  1.897  1.909  3.207  ...  0.687  1.059  1.373  1.345  1.347\n",
              "3758  0.673  4.861  1.331  1.352  1.434  ...  0.726  0.688  0.667  0.651  0.665\n",
              "...     ...    ...    ...    ...    ...  ...    ...    ...    ...    ...    ...\n",
              "4931  0.745  5.000  5.000  3.333  2.883  ...  0.670  0.694  0.689  0.700  0.725\n",
              "3264  1.129  5.000  5.000  5.000  4.248  ...  0.488  0.635  1.111  1.096  1.139\n",
              "1653  1.464  2.491  2.494  1.928  1.919  ...  0.429  1.463  1.448  1.438  1.448\n",
              "2607  2.052  2.052  2.034  2.001  1.991  ...  2.090  0.749  2.037  2.027  2.045\n",
              "2732  2.477  2.349  1.716  1.575  1.168  ...  4.427  3.711  3.714  5.000  2.407\n",
              "\n",
              "[4364 rows x 24 columns]"
            ]
          },
          "metadata": {
            "tags": []
          },
          "execution_count": 17
        }
      ]
    },
    {
      "cell_type": "code",
      "metadata": {
        "id": "HL7Zxstu3PvT",
        "colab_type": "code",
        "outputId": "fe4e6d8c-61fa-4ee3-a613-cf933ff7f274",
        "colab": {
          "base_uri": "https://localhost:8080/",
          "height": 35
        }
      },
      "source": [
        "from keras.utils import np_utils\n",
        "y_train = np_utils.to_categorical(y_train,10)\n",
        "y_test = np_utils.to_categorical(y_test,10)"
      ],
      "execution_count": 0,
      "outputs": [
        {
          "output_type": "stream",
          "text": [
            "Using TensorFlow backend.\n"
          ],
          "name": "stderr"
        }
      ]
    },
    {
      "cell_type": "code",
      "metadata": {
        "id": "AH528BY63PiB",
        "colab_type": "code",
        "outputId": "d3eed663-d0ff-403d-db54-06b1ca6b92d1",
        "colab": {
          "base_uri": "https://localhost:8080/",
          "height": 145
        }
      },
      "source": [
        "y_train"
      ],
      "execution_count": 0,
      "outputs": [
        {
          "output_type": "execute_result",
          "data": {
            "text/plain": [
              "array([[1., 0., 0., ..., 0., 0., 0.],\n",
              "       [0., 1., 0., ..., 0., 0., 0.],\n",
              "       [0., 1., 0., ..., 0., 0., 0.],\n",
              "       ...,\n",
              "       [0., 0., 0., ..., 0., 0., 0.],\n",
              "       [0., 0., 1., ..., 0., 0., 0.],\n",
              "       [0., 1., 0., ..., 0., 0., 0.]], dtype=float32)"
            ]
          },
          "metadata": {
            "tags": []
          },
          "execution_count": 29
        }
      ]
    },
    {
      "cell_type": "code",
      "metadata": {
        "id": "T3WOQeS63PM3",
        "colab_type": "code",
        "outputId": "4133da58-3487-4b4d-e8df-004c29128663",
        "colab": {
          "base_uri": "https://localhost:8080/",
          "height": 145
        }
      },
      "source": [
        "y_test"
      ],
      "execution_count": 0,
      "outputs": [
        {
          "output_type": "execute_result",
          "data": {
            "text/plain": [
              "array([[0., 0., 0., ..., 0., 0., 0.],\n",
              "       [1., 0., 0., ..., 0., 0., 0.],\n",
              "       [0., 0., 0., ..., 0., 0., 0.],\n",
              "       ...,\n",
              "       [1., 0., 0., ..., 0., 0., 0.],\n",
              "       [1., 0., 0., ..., 0., 0., 0.],\n",
              "       [0., 1., 0., ..., 0., 0., 0.]], dtype=float32)"
            ]
          },
          "metadata": {
            "tags": []
          },
          "execution_count": 30
        }
      ]
    },
    {
      "cell_type": "markdown",
      "metadata": {
        "id": "prMr263Q1_RG",
        "colab_type": "text"
      },
      "source": [
        "Build the neural network"
      ]
    },
    {
      "cell_type": "code",
      "metadata": {
        "id": "-iObLF7k1zan",
        "colab_type": "code",
        "colab": {}
      },
      "source": [
        "model = Sequential()\n",
        "\n",
        "model.add(Dense(64, input_dim=24, activation = None))    #input_layer\n",
        "#model.add(BatchNormalization())\n",
        "#model.add(Dropout(0.2))\n",
        "\n",
        "\n",
        "model.add(Dense(128 , activation= 'relu'))     #Hidden_layer\n",
        "#model.add(BatchNormalization())\n",
        "#model.add(Dropout(0.2))\n",
        "\n",
        "model.add(Dense(128 , activation= 'relu'))     #Hidden_layer\n",
        "#model.add(BatchNormalization())\n",
        "#model.add(Dropout(0.2))\n",
        "\n",
        "\n",
        "model.add(Dense(10, activation = 'softmax'))   #Output_layer"
      ],
      "execution_count": 0,
      "outputs": []
    },
    {
      "cell_type": "code",
      "metadata": {
        "id": "MBYyraLP2I1H",
        "colab_type": "code",
        "outputId": "3c11213e-a5aa-404a-c681-918987d1e68a",
        "colab": {
          "base_uri": "https://localhost:8080/",
          "height": 308
        }
      },
      "source": [
        "model.summary()"
      ],
      "execution_count": 0,
      "outputs": [
        {
          "output_type": "stream",
          "text": [
            "Model: \"sequential_3\"\n",
            "_________________________________________________________________\n",
            "Layer (type)                 Output Shape              Param #   \n",
            "=================================================================\n",
            "dense_12 (Dense)             (None, 64)                1600      \n",
            "_________________________________________________________________\n",
            "dense_13 (Dense)             (None, 128)               8320      \n",
            "_________________________________________________________________\n",
            "dense_14 (Dense)             (None, 128)               16512     \n",
            "_________________________________________________________________\n",
            "dense_15 (Dense)             (None, 10)                1290      \n",
            "=================================================================\n",
            "Total params: 27,722\n",
            "Trainable params: 27,722\n",
            "Non-trainable params: 0\n",
            "_________________________________________________________________\n"
          ],
          "name": "stdout"
        }
      ]
    },
    {
      "cell_type": "code",
      "metadata": {
        "id": "Rh6c4pQO2VzD",
        "colab_type": "code",
        "colab": {}
      },
      "source": [
        "model.compile(loss = 'categorical_crossentropy', optimizer = 'adam' , metrics = ['accuracy'])"
      ],
      "execution_count": 0,
      "outputs": []
    },
    {
      "cell_type": "code",
      "metadata": {
        "id": "6lm-eZAV2p7f",
        "colab_type": "code",
        "outputId": "fa4bd30a-d532-4717-b2b1-18bdb5414668",
        "colab": {
          "base_uri": "https://localhost:8080/",
          "height": 1000
        }
      },
      "source": [
        "model.fit(x_train, y_train,epochs = 30, batch_size=100)"
      ],
      "execution_count": 0,
      "outputs": [
        {
          "output_type": "stream",
          "text": [
            "Epoch 1/30\n",
            "44/44 [==============================] - 0s 2ms/step - loss: 1.0080 - accuracy: 0.6049\n",
            "Epoch 2/30\n",
            "44/44 [==============================] - 0s 3ms/step - loss: 0.6648 - accuracy: 0.7328\n",
            "Epoch 3/30\n",
            "44/44 [==============================] - 0s 3ms/step - loss: 0.5727 - accuracy: 0.7743\n",
            "Epoch 4/30\n",
            "44/44 [==============================] - 0s 3ms/step - loss: 0.5108 - accuracy: 0.8057\n",
            "Epoch 5/30\n",
            "44/44 [==============================] - 0s 2ms/step - loss: 0.4506 - accuracy: 0.8357\n",
            "Epoch 6/30\n",
            "44/44 [==============================] - 0s 2ms/step - loss: 0.3980 - accuracy: 0.8524\n",
            "Epoch 7/30\n",
            "44/44 [==============================] - 0s 3ms/step - loss: 0.3597 - accuracy: 0.8696\n",
            "Epoch 8/30\n",
            "44/44 [==============================] - 0s 2ms/step - loss: 0.3402 - accuracy: 0.8724\n",
            "Epoch 9/30\n",
            "44/44 [==============================] - 0s 3ms/step - loss: 0.3207 - accuracy: 0.8788\n",
            "Epoch 10/30\n",
            "44/44 [==============================] - 0s 3ms/step - loss: 0.3107 - accuracy: 0.8857\n",
            "Epoch 11/30\n",
            "44/44 [==============================] - 0s 2ms/step - loss: 0.2770 - accuracy: 0.8941\n",
            "Epoch 12/30\n",
            "44/44 [==============================] - 0s 2ms/step - loss: 0.2796 - accuracy: 0.8957\n",
            "Epoch 13/30\n",
            "44/44 [==============================] - 0s 2ms/step - loss: 0.2458 - accuracy: 0.9102\n",
            "Epoch 14/30\n",
            "44/44 [==============================] - 0s 3ms/step - loss: 0.2483 - accuracy: 0.9049\n",
            "Epoch 15/30\n",
            "44/44 [==============================] - 0s 3ms/step - loss: 0.2492 - accuracy: 0.9095\n",
            "Epoch 16/30\n",
            "44/44 [==============================] - 0s 3ms/step - loss: 0.2283 - accuracy: 0.9173\n",
            "Epoch 17/30\n",
            "44/44 [==============================] - 0s 2ms/step - loss: 0.2136 - accuracy: 0.9198\n",
            "Epoch 18/30\n",
            "44/44 [==============================] - 0s 3ms/step - loss: 0.2138 - accuracy: 0.9187\n",
            "Epoch 19/30\n",
            "44/44 [==============================] - 0s 2ms/step - loss: 0.2116 - accuracy: 0.9203\n",
            "Epoch 20/30\n",
            "44/44 [==============================] - 0s 2ms/step - loss: 0.2051 - accuracy: 0.9280\n",
            "Epoch 21/30\n",
            "44/44 [==============================] - 0s 2ms/step - loss: 0.1925 - accuracy: 0.9294\n",
            "Epoch 22/30\n",
            "44/44 [==============================] - 0s 3ms/step - loss: 0.1962 - accuracy: 0.9251\n",
            "Epoch 23/30\n",
            "44/44 [==============================] - 0s 3ms/step - loss: 0.1848 - accuracy: 0.9285\n",
            "Epoch 24/30\n",
            "44/44 [==============================] - 0s 2ms/step - loss: 0.1645 - accuracy: 0.9388\n",
            "Epoch 25/30\n",
            "44/44 [==============================] - 0s 2ms/step - loss: 0.1729 - accuracy: 0.9374\n",
            "Epoch 26/30\n",
            "44/44 [==============================] - 0s 2ms/step - loss: 0.1565 - accuracy: 0.9427\n",
            "Epoch 27/30\n",
            "44/44 [==============================] - 0s 2ms/step - loss: 0.1519 - accuracy: 0.9436\n",
            "Epoch 28/30\n",
            "44/44 [==============================] - 0s 3ms/step - loss: 0.1509 - accuracy: 0.9441\n",
            "Epoch 29/30\n",
            "44/44 [==============================] - 0s 2ms/step - loss: 0.1492 - accuracy: 0.9448\n",
            "Epoch 30/30\n",
            "44/44 [==============================] - 0s 2ms/step - loss: 0.1430 - accuracy: 0.9496\n"
          ],
          "name": "stdout"
        },
        {
          "output_type": "execute_result",
          "data": {
            "text/plain": [
              "<tensorflow.python.keras.callbacks.History at 0x7f57b46bb860>"
            ]
          },
          "metadata": {
            "tags": []
          },
          "execution_count": 36
        }
      ]
    },
    {
      "cell_type": "code",
      "metadata": {
        "id": "cHxn66Xa2tZv",
        "colab_type": "code",
        "outputId": "8fb2748c-de64-450b-8bdc-d7255a9fbff0",
        "colab": {
          "base_uri": "https://localhost:8080/",
          "height": 1000
        }
      },
      "source": [
        "model.fit(x_train, y_train,validation_data = (x_test,y_test),epochs = 30, batch_size=100)"
      ],
      "execution_count": 0,
      "outputs": [
        {
          "output_type": "stream",
          "text": [
            "Epoch 1/30\n",
            "44/44 [==============================] - 0s 8ms/step - loss: 0.1596 - accuracy: 0.9384 - val_loss: 0.2566 - val_accuracy: 0.9075\n",
            "Epoch 2/30\n",
            "44/44 [==============================] - 0s 4ms/step - loss: 0.1488 - accuracy: 0.9439 - val_loss: 0.2554 - val_accuracy: 0.9130\n",
            "Epoch 3/30\n",
            "44/44 [==============================] - 0s 4ms/step - loss: 0.1538 - accuracy: 0.9411 - val_loss: 0.1970 - val_accuracy: 0.9295\n",
            "Epoch 4/30\n",
            "44/44 [==============================] - 0s 4ms/step - loss: 0.1264 - accuracy: 0.9539 - val_loss: 0.3007 - val_accuracy: 0.8938\n",
            "Epoch 5/30\n",
            "44/44 [==============================] - 0s 4ms/step - loss: 0.1400 - accuracy: 0.9484 - val_loss: 0.1940 - val_accuracy: 0.9350\n",
            "Epoch 6/30\n",
            "44/44 [==============================] - 0s 4ms/step - loss: 0.1244 - accuracy: 0.9555 - val_loss: 0.2029 - val_accuracy: 0.9322\n",
            "Epoch 7/30\n",
            "44/44 [==============================] - 0s 4ms/step - loss: 0.1185 - accuracy: 0.9565 - val_loss: 0.2023 - val_accuracy: 0.9341\n",
            "Epoch 8/30\n",
            "44/44 [==============================] - 0s 4ms/step - loss: 0.1131 - accuracy: 0.9588 - val_loss: 0.2204 - val_accuracy: 0.9359\n",
            "Epoch 9/30\n",
            "44/44 [==============================] - 0s 5ms/step - loss: 0.1135 - accuracy: 0.9562 - val_loss: 0.2009 - val_accuracy: 0.9350\n",
            "Epoch 10/30\n",
            "44/44 [==============================] - 0s 5ms/step - loss: 0.1096 - accuracy: 0.9604 - val_loss: 0.2641 - val_accuracy: 0.9084\n",
            "Epoch 11/30\n",
            "44/44 [==============================] - 0s 4ms/step - loss: 0.1076 - accuracy: 0.9597 - val_loss: 0.1936 - val_accuracy: 0.9332\n",
            "Epoch 12/30\n",
            "44/44 [==============================] - 0s 4ms/step - loss: 0.1012 - accuracy: 0.9599 - val_loss: 0.1997 - val_accuracy: 0.9423\n",
            "Epoch 13/30\n",
            "44/44 [==============================] - 0s 4ms/step - loss: 0.1023 - accuracy: 0.9620 - val_loss: 0.2013 - val_accuracy: 0.9313\n",
            "Epoch 14/30\n",
            "44/44 [==============================] - 0s 4ms/step - loss: 0.0944 - accuracy: 0.9645 - val_loss: 0.2486 - val_accuracy: 0.9176\n",
            "Epoch 15/30\n",
            "44/44 [==============================] - 0s 4ms/step - loss: 0.1171 - accuracy: 0.9544 - val_loss: 0.2113 - val_accuracy: 0.9304\n",
            "Epoch 16/30\n",
            "44/44 [==============================] - 0s 4ms/step - loss: 0.1100 - accuracy: 0.9578 - val_loss: 0.2747 - val_accuracy: 0.9075\n",
            "Epoch 17/30\n",
            "44/44 [==============================] - 0s 4ms/step - loss: 0.0978 - accuracy: 0.9638 - val_loss: 0.2133 - val_accuracy: 0.9332\n",
            "Epoch 18/30\n",
            "44/44 [==============================] - 0s 4ms/step - loss: 0.0911 - accuracy: 0.9675 - val_loss: 0.2152 - val_accuracy: 0.9386\n",
            "Epoch 19/30\n",
            "44/44 [==============================] - 0s 4ms/step - loss: 0.0941 - accuracy: 0.9631 - val_loss: 0.2256 - val_accuracy: 0.9377\n",
            "Epoch 20/30\n",
            "44/44 [==============================] - 0s 4ms/step - loss: 0.0944 - accuracy: 0.9659 - val_loss: 0.2417 - val_accuracy: 0.9295\n",
            "Epoch 21/30\n",
            "44/44 [==============================] - 0s 4ms/step - loss: 0.0872 - accuracy: 0.9704 - val_loss: 0.2051 - val_accuracy: 0.9368\n",
            "Epoch 22/30\n",
            "44/44 [==============================] - 0s 4ms/step - loss: 0.0805 - accuracy: 0.9704 - val_loss: 0.2359 - val_accuracy: 0.9203\n",
            "Epoch 23/30\n",
            "44/44 [==============================] - 0s 4ms/step - loss: 0.1188 - accuracy: 0.9528 - val_loss: 0.2401 - val_accuracy: 0.9295\n",
            "Epoch 24/30\n",
            "44/44 [==============================] - 0s 4ms/step - loss: 0.0894 - accuracy: 0.9668 - val_loss: 0.2301 - val_accuracy: 0.9322\n",
            "Epoch 25/30\n",
            "44/44 [==============================] - 0s 4ms/step - loss: 0.0771 - accuracy: 0.9711 - val_loss: 0.2111 - val_accuracy: 0.9377\n",
            "Epoch 26/30\n",
            "44/44 [==============================] - 0s 4ms/step - loss: 0.0920 - accuracy: 0.9631 - val_loss: 0.2731 - val_accuracy: 0.9249\n",
            "Epoch 27/30\n",
            "44/44 [==============================] - 0s 4ms/step - loss: 0.0850 - accuracy: 0.9656 - val_loss: 0.2056 - val_accuracy: 0.9350\n",
            "Epoch 28/30\n",
            "44/44 [==============================] - 0s 4ms/step - loss: 0.0941 - accuracy: 0.9643 - val_loss: 0.2371 - val_accuracy: 0.9322\n",
            "Epoch 29/30\n",
            "44/44 [==============================] - 0s 4ms/step - loss: 0.0989 - accuracy: 0.9610 - val_loss: 0.2673 - val_accuracy: 0.9286\n",
            "Epoch 30/30\n",
            "44/44 [==============================] - 0s 4ms/step - loss: 0.0844 - accuracy: 0.9711 - val_loss: 0.2410 - val_accuracy: 0.9295\n"
          ],
          "name": "stdout"
        },
        {
          "output_type": "execute_result",
          "data": {
            "text/plain": [
              "<tensorflow.python.keras.callbacks.History at 0x7f57b45d3320>"
            ]
          },
          "metadata": {
            "tags": []
          },
          "execution_count": 37
        }
      ]
    },
    {
      "cell_type": "code",
      "metadata": {
        "id": "9vOQc8N43sAY",
        "colab_type": "code",
        "colab": {}
      },
      "source": [
        ""
      ],
      "execution_count": 0,
      "outputs": []
    }
  ]
}